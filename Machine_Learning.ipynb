{
  "nbformat": 4,
  "nbformat_minor": 0,
  "metadata": {
    "colab": {
      "provenance": []
    },
    "kernelspec": {
      "name": "python3",
      "display_name": "Python 3"
    },
    "language_info": {
      "name": "python"
    }
  },
  "cells": [
    {
      "cell_type": "code",
      "execution_count": 1,
      "metadata": {
        "colab": {
          "base_uri": "https://localhost:8080/",
          "height": 279
        },
        "id": "PgZXEkJ76hVe",
        "outputId": "1c8a5ba3-0009-4ee4-f242-1c1daf66aa68"
      },
      "outputs": [
        {
          "output_type": "display_data",
          "data": {
            "text/plain": [
              "<Figure size 432x288 with 1 Axes>"
            ],
            "image/png": "[encoded data removed]"
          },
          "metadata": {
            "needs_background": "light"
          }
        }
      ],
      "source": [
        "#Supervised leraning classifier\n",
        "import numpy as np\n",
        "import pandas as pd\n",
        "import matplotlib.pyplot as plt\n",
        "from sklearn.datasets import load_iris\n",
        "\n",
        "iris = load_iris()\n",
        "iris.feature_names\n",
        "Data_iris = iris.data\n",
        "Data_iris = pd.DataFrame(Data_iris, columns= iris.feature_names)\n",
        "Data_iris['label'] = iris.target\n",
        "\n",
        "plt.scatter(Data_iris.iloc[:,2], Data_iris.iloc[:,3], c = iris.target)\n",
        "plt.xlabel('Petel length (cm)')\n",
        "plt.ylabel('Petel width (cm)')\n",
        "plt.show()\n",
        "\n",
        "x =  Data_iris.iloc[:,0:4]\n",
        "y =  Data_iris.iloc[:,4]"
      ]
    },
    {
      "cell_type": "code",
      "source": [
        "#k Nearest Neighbour Clasifier\n",
        "from sklearn.neighbors import KNeighborsClassifier\n",
        "kNN = KNeighborsClassifier(n_neighbors=6, metric = 'minkowski',p=1) #p=1 gives manhattan distance\n",
        "kNN.fit(x,y)\n",
        "\n",
        "x_N = np.array([[5.6,3.4,1.4,0.1]])\n",
        "kNN.predict(x_N)\n",
        "\n",
        "x_N2 = np.array([[7.5,4,5.5,2]])\n",
        "kNN.predict(x_N2)"
      ],
      "metadata": {
        "colab": {
          "base_uri": "https://localhost:8080/"
        },
        "id": "IUuOZRv-6uXZ",
        "outputId": "71a03402-7b12-4049-ddd2-851ce6248e92"
      },
      "execution_count": 2,
      "outputs": [
        {
          "output_type": "stream",
          "name": "stderr",
          "text": [
            "/usr/local/lib/python3.8/dist-packages/sklearn/base.py:450: UserWarning: X does not have valid feature names, but KNeighborsClassifier was fitted with feature names\n",
            "  warnings.warn(\n",
            "/usr/local/lib/python3.8/dist-packages/sklearn/base.py:450: UserWarning: X does not have valid feature names, but KNeighborsClassifier was fitted with feature names\n",
            "  warnings.warn(\n"
          ]
        },
        {
          "output_type": "execute_result",
          "data": {
            "text/plain": [
              "array([2])"
            ]
          },
          "metadata": {},
          "execution_count": 2
        }
      ]
    },
    {
      "cell_type": "code",
      "source": [
        "#data partition\n",
        "from sklearn.model_selection import train_test_split\n",
        "X_train,X_test,y_train, y_test = train_test_split(x,y,test_size=0.2, train_size=0.8,\n",
        "                                                  random_state=88,shuffle = True,\n",
        "                                                  stratify=y)"
      ],
      "metadata": {
        "id": "vsVIN53p6yca"
      },
      "execution_count": 3,
      "outputs": []
    },
    {
      "cell_type": "code",
      "source": [
        "#Data prediction\n",
        "from sklearn.neighbors import KNeighborsClassifier\n",
        "kNN = KNeighborsClassifier(n_neighbors=6, metric = 'minkowski',p=1) #p=1 gives manhattan distance\n",
        "kNN.fit(X_train,y_train)\n",
        "predicted_types = kNN.predict(X_test)\n",
        "\n",
        "from sklearn.metrics import accuracy_score\n",
        "accuracy_score(y_test,predicted_types)"
      ],
      "metadata": {
        "colab": {
          "base_uri": "https://localhost:8080/"
        },
        "id": "7crWqyH861C3",
        "outputId": "bff26640-1b39-442c-a6d2-ab90ac353dee"
      },
      "execution_count": 4,
      "outputs": [
        {
          "output_type": "execute_result",
          "data": {
            "text/plain": [
              "0.9666666666666667"
            ]
          },
          "metadata": {},
          "execution_count": 4
        }
      ]
    },
    {
      "cell_type": "code",
      "source": [
        "#Decision Tree\n",
        "from sklearn.tree import DecisionTreeClassifier\n",
        "from sklearn.metrics import accuracy_score\n",
        "Dt = DecisionTreeClassifier()\n",
        "Dt.fit(X_train, y_train)\n",
        "Predicted_types_Dt = Dt.predict(X_test)\n",
        "accuracy_score(y_test,Predicted_types_Dt)"
      ],
      "metadata": {
        "colab": {
          "base_uri": "https://localhost:8080/"
        },
        "id": "0LWs2wne635C",
        "outputId": "542fad01-48ab-4194-ac4d-2fdaaca4b337"
      },
      "execution_count": 5,
      "outputs": [
        {
          "output_type": "execute_result",
          "data": {
            "text/plain": [
              "1.0"
            ]
          },
          "metadata": {},
          "execution_count": 5
        }
      ]
    },
    {
      "cell_type": "code",
      "source": [
        "#K cross validation\n",
        "from sklearn.model_selection import cross_val_score\n",
        "Scores_Dt = cross_val_score(Dt,x,y,cv=10)"
      ],
      "metadata": {
        "id": "cJW3C77a66a4"
      },
      "execution_count": 6,
      "outputs": []
    },
    {
      "cell_type": "code",
      "source": [
        "#Naive Bayes Classifier\n",
        "from sklearn.naive_bayes import GaussianNB\n",
        "NB = GaussianNB()\n",
        "NB.fit(X_train, y_train)\n",
        "Predicted_types_NB = NB.predict(X_test)\n",
        "accuracy_score(y_test,Predicted_types_NB)\n",
        "Scores_NB = cross_val_score(NB,x,y,cv=10)"
      ],
      "metadata": {
        "id": "KuDEqaa868le"
      },
      "execution_count": 7,
      "outputs": []
    },
    {
      "cell_type": "code",
      "source": [
        "#Logistic Regression\n",
        "from sklearn.datasets import load_breast_cancer\n",
        "Data_C = load_breast_cancer()\n",
        "x = Data_C.data\n",
        "y = Data_C.target\n",
        "\n",
        "from sklearn.model_selection import train_test_split\n",
        "X_train, X_test, y_train, y_test = train_test_split(x, y,\n",
        "                                                    test_size=0.3,train_size=0.7, random_state = 88)\n",
        "\n",
        "from sklearn.linear_model import LogisticRegression\n",
        "from sklearn.metrics import accuracy_score\n",
        "Lr = LogisticRegression()\n",
        "Lr.fit(X_train, y_train)\n",
        "Predicted_classes_Lr = Lr.predict(X_test)\n",
        "accuracy_score(y_test,Predicted_classes_Lr)"
      ],
      "metadata": {
        "colab": {
          "base_uri": "https://localhost:8080/"
        },
        "id": "SJh-zaSh6-iF",
        "outputId": "ee259c63-5737-483a-830a-e6dadd8fb986"
      },
      "execution_count": 8,
      "outputs": [
        {
          "output_type": "stream",
          "name": "stderr",
          "text": [
            "/usr/local/lib/python3.8/dist-packages/sklearn/linear_model/_logistic.py:814: ConvergenceWarning: lbfgs failed to converge (status=1):\n",
            "STOP: TOTAL NO. of ITERATIONS REACHED LIMIT.\n",
            "\n",
            "Increase the number of iterations (max_iter) or scale the data as shown in:\n",
            "    https://scikit-learn.org/stable/modules/preprocessing.html\n",
            "Please also refer to the documentation for alternative solver options:\n",
            "    https://scikit-learn.org/stable/modules/linear_model.html#logistic-regression\n",
            "  n_iter_i = _check_optimize_result(\n"
          ]
        },
        {
          "output_type": "execute_result",
          "data": {
            "text/plain": [
              "0.9532163742690059"
            ]
          },
          "metadata": {},
          "execution_count": 8
        }
      ]
    },
    {
      "cell_type": "code",
      "source": [
        "#Evaluation metrics\n",
        "#confusion matrix\n",
        "from sklearn.metrics import confusion_matrix, classification_report\n",
        "Conf_mat =  confusion_matrix(y_test, Predicted_classes_Lr)\n",
        "Class_rep = classification_report(y_test, Predicted_classes_Lr)"
      ],
      "metadata": {
        "id": "lgVvUBr97Btj"
      },
      "execution_count": 9,
      "outputs": []
    },
    {
      "cell_type": "code",
      "source": [
        "#ROC curve\n",
        "from sklearn.metrics import roc_curve\n",
        "import matplotlib.pyplot as plt\n",
        "y_prob = Lr.predict_proba(X_test)\n",
        "y_prob = y_prob[:,1]\n",
        "\n",
        "FPR, TPR, Thresholds = roc_curve(y_test, y_prob)\n",
        "plt.plot(FPR, TPR)\n",
        "plt.xlabel('FPR')\n",
        "plt.ylabel('TPR')\n",
        "plt.show()"
      ],
      "metadata": {
        "colab": {
          "base_uri": "https://localhost:8080/",
          "height": 279
        },
        "id": "_U5Jly_i7ENP",
        "outputId": "c2f0f42b-2547-4ee5-cb47-44d6674a9a17"
      },
      "execution_count": 10,
      "outputs": [
        {
          "output_type": "display_data",
          "data": {
            "text/plain": [
              "<Figure size 432x288 with 1 Axes>"
            ],
            "image/png": "[encoded data removed]"
          },
          "metadata": {
            "needs_background": "light"
          }
        }
      ]
    },
    {
      "cell_type": "code",
      "source": [
        "#auc area of curve\n",
        "from sklearn.metrics import roc_auc_score\n",
        "roc_auc_score(y_test, y_prob)"
      ],
      "metadata": {
        "colab": {
          "base_uri": "https://localhost:8080/"
        },
        "id": "Ntd2q7LC7Gb8",
        "outputId": "58f8fc32-1f8f-4dfd-cdf6-24d7fe0b3429"
      },
      "execution_count": 11,
      "outputs": [
        {
          "output_type": "execute_result",
          "data": {
            "text/plain": [
              "0.9855340104647583"
            ]
          },
          "metadata": {},
          "execution_count": 11
        }
      ]
    }
  ]
}