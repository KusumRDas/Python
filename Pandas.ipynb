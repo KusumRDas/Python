{
  "nbformat": 4,
  "nbformat_minor": 0,
  "metadata": {
    "colab": {
      "provenance": []
    },
    "kernelspec": {
      "name": "python3",
      "display_name": "Python 3"
    },
    "language_info": {
      "name": "python"
    }
  },
  "cells": [
    {
      "cell_type": "code",
      "execution_count": 3,
      "metadata": {
        "id": "LrnUjcwwOlbs"
      },
      "outputs": [],
      "source": [
        "import pandas as pd\n",
        "\n",
        "#Series\n",
        "Age = pd.Series([10, 20, 30, 40], index=['age1', 'age2', 'age3', 'age4'])\n",
        "Age.age3         #print age3 only\n",
        "Filtered_Age = Age[Age>20]\n",
        "Age.values            #print values\n",
        "Age.index             #print index\n",
        "Age.index = ['A1', 'A2', 'A3', 'A4']       #change index name"
      ]
    },
    {
      "cell_type": "code",
      "source": [
        "#Dataframe\n",
        "import numpy as np\n",
        "\n",
        "DF = np.array([[20,10,8],[25,8,10],[27,5,3],[30,9,7]])\n",
        "Data_Set = pd.DataFrame(DF)\n",
        "Data_Set = pd.DataFrame(DF, index=['S1','S2','S3','S4'])   #naming\n",
        "Data_Set = pd.DataFrame(DF, index=['S1','S2','S3','S4'], columns=['Age','Grade1','Grade2'])\n",
        "Data_Set['Grade3'] = [9,6,7,10]       #add column\n",
        "Data_Set.loc['S2']\n",
        "Data_Set.iloc[1][3]\n",
        "Data_Set.iloc[:,0]\n",
        "Data_Set.iloc[:,1:3]\n",
        "Data_Set.drop('Grade1', axis=1)\n",
        "Data_Set.replace(10,12)\n",
        "Data_Set.replace({12:10, 9:30})\n",
        "Data_Set.head(3)\n",
        "Data_Set.tail(2)\n",
        "Data_Set.sort_values('Grade1', ascending = False)\n",
        "Data_Set.sort_index(axis=0, ascending = False)\n",
        "\n",
        "Data = pd.read_csv('Data_Set.csv')"
      ],
      "metadata": {
        "id": "qCRhqfJHOvJF"
      },
      "execution_count": 4,
      "outputs": []
    }
  ]
}