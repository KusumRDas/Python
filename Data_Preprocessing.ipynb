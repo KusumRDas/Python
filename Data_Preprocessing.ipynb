{
  "nbformat": 4,
  "nbformat_minor": 0,
  "metadata": {
    "colab": {
      "provenance": []
    },
    "kernelspec": {
      "name": "python3",
      "display_name": "Python 3"
    },
    "language_info": {
      "name": "python"
    }
  },
  "cells": [
    {
      "cell_type": "code",
      "execution_count": 9,
      "metadata": {
        "id": "W-RpzUGC4xMX"
      },
      "outputs": [],
      "source": [
        "import pandas as pd\n",
        "\n",
        "Data_Set1 = pd.read_csv('Data_Set.csv')\n",
        "Data_Set2 = pd.read_csv('Data_Set.csv', header = 2)    #remove unwanted rows\n",
        "Data_Set3 = Data_Set2.rename(columns = {'Temperature' : 'Temp'})  #change column name\n",
        "Data_Set4 = Data_Set3.drop('No. Occupants', axis = 1)        #remove column\n",
        "#or\n",
        "Data_Set3.drop('No. Occupants', axis = 1, inplace = True)    #no new dataset formed\n",
        "Data_Set5 = Data_Set4.drop(2, axis = 0)                  #drop rows\n",
        "Data_Set6 = Data_Set5.reset_index(drop = True)            #reset index number\n",
        "Data_Set6.describe()                   #Summary\n",
        "\n",
        "Min_item = Data_Set6['E_Heat'].min()\n",
        "Data_Set6['E_Heat'][Data_Set6['E_Heat'] == Min_item]\n",
        "Data_Set6['E_Heat'].replace(-4,21, inplace = True)"
      ]
    },
    {
      "cell_type": "code",
      "source": [
        "#covarience\n",
        "Data_Set6.cov()\n",
        "import seaborn as sn\n",
        "sn.heatmap(Data_Set6.corr())"
      ],
      "metadata": {
        "colab": {
          "base_uri": "https://localhost:8080/",
          "height": 287
        },
        "id": "gG4UVcdx4678",
        "outputId": "ca720d93-eac3-4fef-8bfa-9fa524d7cf5f"
      },
      "execution_count": 10,
      "outputs": [
        {
          "output_type": "execute_result",
          "data": {
            "text/plain": [
              "<matplotlib.axes._subplots.AxesSubplot at 0x7f9a250fccd0>"
            ]
          },
          "metadata": {},
          "execution_count": 10
        },
        {
          "output_type": "display_data",
          "data": {
            "text/plain": [
              "<Figure size 432x288 with 2 Axes>"
            ],
            "image/png": "[encoded data removed]"
          },
          "metadata": {
            "needs_background": "light"
          }
        }
      ]
    },
    {
      "cell_type": "code",
      "source": [
        "#missing values = 1\n",
        "Data_Set6.info()\n",
        "import numpy as np\n",
        "Data_Set7 = Data_Set6.replace('!', np.NaN)             #spot abnormality\n",
        "Data_Set7.info()\n",
        "Data_Set7 = Data_Set7.apply(pd.to_numeric)             #convert variable to numeric\n",
        "\"\"\"\n",
        "#missing values = 2\n",
        "Data_Set7.isnull()\n",
        "Data_Set7.drop(13, axis = 0, inplace = True)          #delete NaN row (single)\n",
        "Data_Set7.dropna(axis = 0, inplace = True)            #delete NaN rows (all)\n",
        "\"\"\""
      ],
      "metadata": {
        "colab": {
          "base_uri": "https://localhost:8080/",
          "height": 469
        },
        "id": "-LfoEOY-4-PR",
        "outputId": "329445e9-083b-4c55-d805-d4040e770169"
      },
      "execution_count": 11,
      "outputs": [
        {
          "output_type": "stream",
          "name": "stdout",
          "text": [
            "<class 'pandas.core.frame.DataFrame'>\n",
            "RangeIndex: 24 entries, 0 to 23\n",
            "Data columns (total 5 columns):\n",
            " #   Column  Non-Null Count  Dtype  \n",
            "---  ------  --------------  -----  \n",
            " 0   Time    24 non-null     int64  \n",
            " 1   E_Plug  23 non-null     float64\n",
            " 2   E_Heat  24 non-null     int64  \n",
            " 3   Price   24 non-null     object \n",
            " 4   Temp    24 non-null     int64  \n",
            "dtypes: float64(1), int64(3), object(1)\n",
            "memory usage: 1.1+ KB\n",
            "<class 'pandas.core.frame.DataFrame'>\n",
            "RangeIndex: 24 entries, 0 to 23\n",
            "Data columns (total 5 columns):\n",
            " #   Column  Non-Null Count  Dtype  \n",
            "---  ------  --------------  -----  \n",
            " 0   Time    24 non-null     int64  \n",
            " 1   E_Plug  23 non-null     float64\n",
            " 2   E_Heat  24 non-null     int64  \n",
            " 3   Price   23 non-null     object \n",
            " 4   Temp    24 non-null     int64  \n",
            "dtypes: float64(1), int64(3), object(1)\n",
            "memory usage: 1.1+ KB\n"
          ]
        },
        {
          "output_type": "execute_result",
          "data": {
            "text/plain": [
              "'\\n#missing values = 2\\nData_Set7.isnull()\\nData_Set7.drop(13, axis = 0, inplace = True)          #delete NaN row (single)\\nData_Set7.dropna(axis = 0, inplace = True)            #delete NaN rows (all)\\n'"
            ],
            "application/vnd.google.colaboratory.intrinsic+json": {
              "type": "string"
            }
          },
          "metadata": {},
          "execution_count": 11
        }
      ]
    },
    {
      "cell_type": "code",
      "source": [
        "#another way\n",
        "Data_Set8 = Data_Set7.fillna(method = 'ffill')   #fill the data from previous row\n",
        "\n",
        "from sklearn.impute import SimpleImputer\n",
        "M_Var = SimpleImputer(missing_values= np.nan, strategy='mean')\n",
        "M_Var.fit(Data_Set7)\n",
        "Data_Set9 = M_Var.transform(Data_Set7)\n",
        "\"\"\"\n",
        "#outlier detection\n",
        "Data_Set8.boxplot()\n",
        "\n",
        "Data_Set8['E_Plug'].quantile(0.25)\n",
        "Data_Set8['E_Plug'].quantile(0.75)\n",
        "\"\"\""
      ],
      "metadata": {
        "colab": {
          "base_uri": "https://localhost:8080/",
          "height": 52
        },
        "id": "p0zvzUND5Dpo",
        "outputId": "e623c61b-32d5-4a26-a22d-de53c0673741"
      },
      "execution_count": 12,
      "outputs": [
        {
          "output_type": "execute_result",
          "data": {
            "text/plain": [
              "\"\\n#outlier detection\\nData_Set8.boxplot()\\n\\nData_Set8['E_Plug'].quantile(0.25)\\nData_Set8['E_Plug'].quantile(0.75)\\n\""
            ],
            "application/vnd.google.colaboratory.intrinsic+json": {
              "type": "string"
            }
          },
          "metadata": {},
          "execution_count": 12
        }
      ]
    },
    {
      "cell_type": "code",
      "source": [
        "#replace outlier\n",
        "Data_Set8['E_Plug'].replace(120, 42, inplace = True)"
      ],
      "metadata": {
        "id": "RZtuh8aS5Gqh"
      },
      "execution_count": 13,
      "outputs": []
    },
    {
      "cell_type": "code",
      "source": [
        "#preprocessing Concatenating\n",
        "New_Col = pd.read_csv('Data_New.csv')\n",
        "Data_Set10 = pd.concat([Data_Set8, New_Col], axis=1)"
      ],
      "metadata": {
        "id": "rd0d0K6o5JPb"
      },
      "execution_count": 14,
      "outputs": []
    },
    {
      "cell_type": "code",
      "source": [
        "#dummy coding\n",
        "Data_Set10.info()\n",
        "Data_Set11 = pd.get_dummies(Data_Set10)\n",
        "Data_Set11.info()"
      ],
      "metadata": {
        "colab": {
          "base_uri": "https://localhost:8080/"
        },
        "id": "hT-23CjU5LVM",
        "outputId": "d86fd0dd-f918-4fcb-aa7c-2309337170b0"
      },
      "execution_count": 15,
      "outputs": [
        {
          "output_type": "stream",
          "name": "stdout",
          "text": [
            "<class 'pandas.core.frame.DataFrame'>\n",
            "RangeIndex: 24 entries, 0 to 23\n",
            "Data columns (total 6 columns):\n",
            " #   Column   Non-Null Count  Dtype  \n",
            "---  ------   --------------  -----  \n",
            " 0   Time     24 non-null     int64  \n",
            " 1   E_Plug   24 non-null     float64\n",
            " 2   E_Heat   24 non-null     int64  \n",
            " 3   Price    24 non-null     float64\n",
            " 4   Temp     24 non-null     int64  \n",
            " 5   P/OffP   24 non-null     object \n",
            "dtypes: float64(2), int64(3), object(1)\n",
            "memory usage: 1.2+ KB\n",
            "<class 'pandas.core.frame.DataFrame'>\n",
            "RangeIndex: 24 entries, 0 to 23\n",
            "Data columns (total 7 columns):\n",
            " #   Column           Non-Null Count  Dtype  \n",
            "---  ------           --------------  -----  \n",
            " 0   Time             24 non-null     int64  \n",
            " 1   E_Plug           24 non-null     float64\n",
            " 2   E_Heat           24 non-null     int64  \n",
            " 3   Price            24 non-null     float64\n",
            " 4   Temp             24 non-null     int64  \n",
            " 5   P/OffP _OffPeak  24 non-null     uint8  \n",
            " 6   P/OffP _Peak     24 non-null     uint8  \n",
            "dtypes: float64(2), int64(3), uint8(2)\n",
            "memory usage: 1.1 KB\n"
          ]
        }
      ]
    },
    {
      "cell_type": "code",
      "source": [
        "#normalization\n",
        "from sklearn.preprocessing import minmax_scale, normalize"
      ],
      "metadata": {
        "id": "tqRmETw55OSp"
      },
      "execution_count": 16,
      "outputs": []
    },
    {
      "cell_type": "code",
      "source": [
        "#minmax scale\n",
        "Data_Set12 = minmax_scale(Data_Set11, feature_range=(0,1))"
      ],
      "metadata": {
        "id": "MHJ59jvE5VrI"
      },
      "execution_count": 17,
      "outputs": []
    },
    {
      "cell_type": "code",
      "source": [
        "#normalize\n",
        "Data_Set13 = normalize(Data_Set11, norm = 'l2', axis = 0)\n",
        "\n",
        "Data_Set13 = pd.DataFrame(Data_Set13, columns=['Time','E_Plug',\n",
        "                                               'E_Heat','Price','Temp','OffPeak','Peak'])"
      ],
      "metadata": {
        "id": "xUBy7brL5ZbG"
      },
      "execution_count": 18,
      "outputs": []
    }
  ]
}