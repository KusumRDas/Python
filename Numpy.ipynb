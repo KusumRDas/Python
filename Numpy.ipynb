{
  "nbformat": 4,
  "nbformat_minor": 0,
  "metadata": {
    "colab": {
      "provenance": []
    },
    "kernelspec": {
      "name": "python3",
      "display_name": "Python 3"
    },
    "language_info": {
      "name": "python"
    }
  },
  "cells": [
    {
      "cell_type": "code",
      "execution_count": 1,
      "metadata": {
        "id": "sfHZCIKoNt3l"
      },
      "outputs": [],
      "source": [
        "import numpy as np\n",
        "\n",
        "NumP_Array = np.array([[1,2,3],[4,5,6]])\n",
        "NP1 = np.array([[1,3],[4,5]])\n",
        "NP2 = np.array([[3,4],[5,7]])\n",
        "\n",
        "MNP = NP1@NP2    #matrix\n",
        "#or\n",
        "MNP3 = np.dot(NP1, NP2)"
      ]
    },
    {
      "cell_type": "code",
      "source": [
        "#Multiplication\n",
        "MNP2 = NP1*NP2\n",
        "#or\n",
        "MNP4 = np.multiply(NP1, NP2)"
      ],
      "metadata": {
        "id": "gMpCEYrKN1v_"
      },
      "execution_count": 2,
      "outputs": []
    },
    {
      "cell_type": "code",
      "source": [
        "#Sum & Subtraction\n",
        "Sum1 = NP1 + NP2\n",
        "Sub1 = NP1 - NP2\n",
        "Sub2 = np.subtract(NP1, NP2)\n",
        "El_sum = np.sum(NP1)\n",
        "Broad_Nump = NP1 + 3\n",
        "NP3 = np.array([3,4])\n",
        "NP1 + NP3"
      ],
      "metadata": {
        "colab": {
          "base_uri": "https://localhost:8080/"
        },
        "id": "HByNrttWN4pa",
        "outputId": "01bc1a53-eaf9-44b9-e739-467916c0fd93"
      },
      "execution_count": 3,
      "outputs": [
        {
          "output_type": "execute_result",
          "data": {
            "text/plain": [
              "array([[4, 7],\n",
              "       [7, 9]])"
            ]
          },
          "metadata": {},
          "execution_count": 3
        }
      ]
    },
    {
      "cell_type": "code",
      "source": [
        "#Division\n",
        "D = np.divide([12,14,16],5)    #float\n",
        "D1 = np.floor_divide([12,14,16],5)    #integer\n",
        "Sq = np.math.sqrt(9)"
      ],
      "metadata": {
        "id": "eBIAaq8LN7bh"
      },
      "execution_count": 4,
      "outputs": []
    },
    {
      "cell_type": "code",
      "source": [
        "#random\n",
        "ND = np.random.standard_normal((3,4))\n",
        "UD = np.random.uniform(1,12,(3,4))\n",
        "NDf = np.random.rand(3,4)    #float\n",
        "Random_Ar = np.random.randint(1,50,(2,5))   #integer\n",
        "Ze = np.zeros((3,4))\n",
        "One = np.ones((3,4))"
      ],
      "metadata": {
        "id": "Meq_RTb6N-Um"
      },
      "execution_count": 5,
      "outputs": []
    },
    {
      "cell_type": "code",
      "source": [
        "#Logics\n",
        "Filter_Ar = np.logical_and(Random_Ar>30, Random_Ar<50)\n",
        "F_Filter_Ar = Random_Ar[Filter_Ar]\n",
        "\n",
        "Data_N = np.array([1,3,4,5,7,9])    #Single aaray\n",
        "Mean_N = np.mean(Data_N)\n",
        "Median_N = np.median(Data_N)\n",
        "Var_N = np.var(Data_N)\n",
        "SD_N = np.std(Data_N)\n",
        "\n",
        "Nump_Array = np.array([[1,2,3],[4,5,6]])\n",
        "Var_Nump = np.var(Nump_Array,axis=1)    #Column\n",
        "Var_Nump2 = np.var(Nump_Array,axis=0)   #Rows"
      ],
      "metadata": {
        "id": "WXOdcm6UOAsu"
      },
      "execution_count": 6,
      "outputs": []
    },
    {
      "cell_type": "code",
      "source": [
        "import pandas as pd\n",
        "\n",
        "Age = pd.Series([10, 20, 30, 40], index=['age1', 'age2', 'age3', 'age4'])"
      ],
      "metadata": {
        "id": "b40hYpeKOFnQ"
      },
      "execution_count": 7,
      "outputs": []
    }
  ]
}